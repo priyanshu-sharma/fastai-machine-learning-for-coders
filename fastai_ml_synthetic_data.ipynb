{
 "cells": [
  {
   "cell_type": "code",
   "execution_count": 1,
   "metadata": {},
   "outputs": [],
   "source": [
    "%matplotlib inline\n",
    "from fastai.imports import *\n",
    "from sklearn.ensemble import RandomForestRegressor"
   ]
  },
  {
   "cell_type": "code",
   "execution_count": 2,
   "metadata": {},
   "outputs": [
    {
     "data": {
      "text/plain": [
       "array([0.     , 0.02041, 0.04082, 0.06122, 0.08163, 0.10204, 0.12245, 0.14286, 0.16327, 0.18367, 0.20408,\n",
       "       0.22449, 0.2449 , 0.26531, 0.28571, 0.30612, 0.32653, 0.34694, 0.36735, 0.38776, 0.40816, 0.42857,\n",
       "       0.44898, 0.46939, 0.4898 , 0.5102 , 0.53061, 0.55102, 0.57143, 0.59184, 0.61224, 0.63265, 0.65306,\n",
       "       0.67347, 0.69388, 0.71429, 0.73469, 0.7551 , 0.77551, 0.79592, 0.81633, 0.83673, 0.85714, 0.87755,\n",
       "       0.89796, 0.91837, 0.93878, 0.95918, 0.97959, 1.     ])"
      ]
     },
     "execution_count": 2,
     "metadata": {},
     "output_type": "execute_result"
    }
   ],
   "source": [
    "x = np.linspace(0,1)\n",
    "x"
   ]
  },
  {
   "cell_type": "code",
   "execution_count": 3,
   "metadata": {},
   "outputs": [],
   "source": [
    "y = x + np.random.uniform(-0.2,0.2,x.shape)"
   ]
  },
  {
   "cell_type": "code",
   "execution_count": 4,
   "metadata": {},
   "outputs": [
    {
     "data": {
      "text/plain": [
       "array([0.0591 , 0.14103, 0.0495 , 0.23405, 0.272  , 0.17811, 0.09555, 0.0933 , 0.19119, 0.31434, 0.1948 ,\n",
       "       0.37605, 0.3227 , 0.26772, 0.16578, 0.311  , 0.44265, 0.54351, 0.49649, 0.52738, 0.46006, 0.32248,\n",
       "       0.56807, 0.43598, 0.62146, 0.43094, 0.49611, 0.63464, 0.56287, 0.76403, 0.65974, 0.4871 , 0.83988,\n",
       "       0.56216, 0.68201, 0.59174, 0.76347, 0.80181, 0.96659, 0.74659, 0.79222, 0.87827, 0.91458, 0.72337,\n",
       "       1.08843, 0.74461, 1.06013, 0.81565, 1.15511, 0.89631])"
      ]
     },
     "execution_count": 4,
     "metadata": {},
     "output_type": "execute_result"
    }
   ],
   "source": [
    "y"
   ]
  },
  {
   "cell_type": "code",
   "execution_count": 6,
   "metadata": {},
   "outputs": [
    {
     "data": {
      "text/plain": [
       "(50,)"
      ]
     },
     "execution_count": 6,
     "metadata": {},
     "output_type": "execute_result"
    }
   ],
   "source": [
    "x.shape"
   ]
  },
  {
   "cell_type": "code",
   "execution_count": 7,
   "metadata": {},
   "outputs": [
    {
     "data": {
      "text/plain": [
       "(50,)"
      ]
     },
     "execution_count": 7,
     "metadata": {},
     "output_type": "execute_result"
    }
   ],
   "source": [
    "y.shape"
   ]
  },
  {
   "cell_type": "code",
   "execution_count": 8,
   "metadata": {},
   "outputs": [
    {
     "data": {
      "text/plain": [
       "<matplotlib.collections.PathCollection at 0x1d81f5f6208>"
      ]
     },
     "execution_count": 8,
     "metadata": {},
     "output_type": "execute_result"
    },
    {
     "data": {
      "image/png": "[encoded data removed]",
      "text/plain": [
       "<Figure size 432x288 with 1 Axes>"
      ]
     },
     "metadata": {
      "needs_background": "light"
     },
     "output_type": "display_data"
    }
   ],
   "source": [
    "plt.scatter(x,y)"
   ]
  },
  {
   "cell_type": "code",
   "execution_count": 13,
   "metadata": {},
   "outputs": [
    {
     "data": {
      "text/plain": [
       "(1, 50)"
      ]
     },
     "execution_count": 13,
     "metadata": {},
     "output_type": "execute_result"
    }
   ],
   "source": [
    "## 1 row with 50 columns \n",
    "x[None].shape"
   ]
  },
  {
   "cell_type": "code",
   "execution_count": 14,
   "metadata": {},
   "outputs": [
    {
     "data": {
      "text/plain": [
       "(50, 1)"
      ]
     },
     "execution_count": 14,
     "metadata": {},
     "output_type": "execute_result"
    }
   ],
   "source": [
    "## 50 rows and 1 columns\n",
    "x1 = x[:,None]\n",
    "x1.shape"
   ]
  },
  {
   "cell_type": "code",
   "execution_count": 16,
   "metadata": {},
   "outputs": [
    {
     "data": {
      "text/plain": [
       "array([[0.     ],\n",
       "       [0.02041],\n",
       "       [0.04082],\n",
       "       [0.06122],\n",
       "       [0.08163],\n",
       "       [0.10204],\n",
       "       [0.12245],\n",
       "       [0.14286],\n",
       "       [0.16327],\n",
       "       [0.18367],\n",
       "       [0.20408],\n",
       "       [0.22449],\n",
       "       [0.2449 ],\n",
       "       [0.26531],\n",
       "       [0.28571],\n",
       "       [0.30612],\n",
       "       [0.32653],\n",
       "       [0.34694],\n",
       "       [0.36735],\n",
       "       [0.38776],\n",
       "       [0.40816],\n",
       "       [0.42857],\n",
       "       [0.44898],\n",
       "       [0.46939],\n",
       "       [0.4898 ],\n",
       "       [0.5102 ],\n",
       "       [0.53061],\n",
       "       [0.55102],\n",
       "       [0.57143],\n",
       "       [0.59184],\n",
       "       [0.61224],\n",
       "       [0.63265],\n",
       "       [0.65306],\n",
       "       [0.67347],\n",
       "       [0.69388],\n",
       "       [0.71429],\n",
       "       [0.73469],\n",
       "       [0.7551 ],\n",
       "       [0.77551],\n",
       "       [0.79592]])"
      ]
     },
     "execution_count": 16,
     "metadata": {},
     "output_type": "execute_result"
    }
   ],
   "source": [
    "X_train, X_valid = x1[:40], x1[40:]\n",
    "X_train"
   ]
  },
  {
   "cell_type": "code",
   "execution_count": 17,
   "metadata": {},
   "outputs": [
    {
     "data": {
      "text/plain": [
       "array([[0.81633],\n",
       "       [0.83673],\n",
       "       [0.85714],\n",
       "       [0.87755],\n",
       "       [0.89796],\n",
       "       [0.91837],\n",
       "       [0.93878],\n",
       "       [0.95918],\n",
       "       [0.97959],\n",
       "       [1.     ]])"
      ]
     },
     "execution_count": 17,
     "metadata": {},
     "output_type": "execute_result"
    }
   ],
   "source": [
    "X_valid"
   ]
  },
  {
   "cell_type": "code",
   "execution_count": 18,
   "metadata": {},
   "outputs": [
    {
     "data": {
      "text/plain": [
       "array([0.0591 , 0.14103, 0.0495 , 0.23405, 0.272  , 0.17811, 0.09555, 0.0933 , 0.19119, 0.31434, 0.1948 ,\n",
       "       0.37605, 0.3227 , 0.26772, 0.16578, 0.311  , 0.44265, 0.54351, 0.49649, 0.52738, 0.46006, 0.32248,\n",
       "       0.56807, 0.43598, 0.62146, 0.43094, 0.49611, 0.63464, 0.56287, 0.76403, 0.65974, 0.4871 , 0.83988,\n",
       "       0.56216, 0.68201, 0.59174, 0.76347, 0.80181, 0.96659, 0.74659])"
      ]
     },
     "execution_count": 18,
     "metadata": {},
     "output_type": "execute_result"
    }
   ],
   "source": [
    "Y_train, Y_valid = y[:40], y[40:]\n",
    "Y_train"
   ]
  },
  {
   "cell_type": "code",
   "execution_count": 19,
   "metadata": {},
   "outputs": [
    {
     "data": {
      "text/plain": [
       "array([0.79222, 0.87827, 0.91458, 0.72337, 1.08843, 0.74461, 1.06013, 0.81565, 1.15511, 0.89631])"
      ]
     },
     "execution_count": 19,
     "metadata": {},
     "output_type": "execute_result"
    }
   ],
   "source": [
    "Y_valid"
   ]
  },
  {
   "cell_type": "code",
   "execution_count": 20,
   "metadata": {},
   "outputs": [
    {
     "name": "stderr",
     "output_type": "stream",
     "text": [
      "C:\\ProgramData\\Anaconda2\\envs\\fastai\\lib\\site-packages\\sklearn\\ensemble\\forest.py:246: FutureWarning: The default value of n_estimators will change from 10 in version 0.20 to 100 in 0.22.\n",
      "  \"10 in version 0.20 to 100 in 0.22.\", FutureWarning)\n"
     ]
    }
   ],
   "source": [
    "m = RandomForestRegressor().fit(X_train,Y_train)"
   ]
  },
  {
   "cell_type": "code",
   "execution_count": 22,
   "metadata": {},
   "outputs": [
    {
     "data": {
      "text/plain": [
       "<matplotlib.collections.PathCollection at 0x1d81ee9e2b0>"
      ]
     },
     "execution_count": 22,
     "metadata": {},
     "output_type": "execute_result"
    },
    {
     "data": {
      "image/png": "[encoded data removed]",
      "text/plain": [
       "<Figure size 432x288 with 1 Axes>"
      ]
     },
     "metadata": {
      "needs_background": "light"
     },
     "output_type": "display_data"
    }
   ],
   "source": [
    "plt.scatter(Y_train, m.predict(X_train))"
   ]
  },
  {
   "cell_type": "code",
   "execution_count": 30,
   "metadata": {},
   "outputs": [],
   "source": [
    "##So why the prediction of X_validation is in the straight line means they all have the same y values. \n",
    "##This is because it is just returing the average value of the nearby observations where nearby in tree space."
   ]
  },
  {
   "cell_type": "code",
   "execution_count": 23,
   "metadata": {},
   "outputs": [
    {
     "data": {
      "text/plain": [
       "<matplotlib.collections.PathCollection at 0x1d81e3d14a8>"
      ]
     },
     "execution_count": 23,
     "metadata": {},
     "output_type": "execute_result"
    },
    {
     "data": {
      "image/png": "[encoded data removed]",
      "text/plain": [
       "<Figure size 432x288 with 1 Axes>"
      ]
     },
     "metadata": {
      "needs_background": "light"
     },
     "output_type": "display_data"
    }
   ],
   "source": [
    "plt.scatter(Y_valid, m.predict(X_valid))"
   ]
  }
 ],
 "metadata": {
  "kernelspec": {
   "display_name": "Python 3",
   "language": "python",
   "name": "python3"
  },
  "language_info": {
   "codemirror_mode": {
    "name": "ipython",
    "version": 3
   },
   "file_extension": ".py",
   "mimetype": "text/x-python",
   "name": "python",
   "nbconvert_exporter": "python",
   "pygments_lexer": "ipython3",
   "version": "3.6.7"
  }
 },
 "nbformat": 4,
 "nbformat_minor": 2
}
